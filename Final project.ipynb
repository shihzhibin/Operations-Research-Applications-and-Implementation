{
 "cells": [
  {
   "cell_type": "code",
   "execution_count": 70,
   "metadata": {},
   "outputs": [
    {
     "name": "stdout",
     "output_type": "stream",
     "text": [
      "Populating the interactive namespace from numpy and matplotlib\n"
     ]
    }
   ],
   "source": [
    "#Download package\n",
    "import numpy as np\n",
    "import matplotlib.pyplot as plt\n",
    "from IPython.html.widgets import interact\n",
    "%pylab inline\n",
    "\n",
    "\n",
    "def normalpdf(x, u, v):\n",
    "    return 1 / (v * np.sqrt(2 * np.pi)) * np.exp(-(x - u) ** 2 / 2 / v**2)"
   ]
  },
  {
   "cell_type": "code",
   "execution_count": 71,
   "metadata": {},
   "outputs": [],
   "source": [
    "#parameter\n",
    "u = 200  # 均值\n",
    "v = 30   # 標準差\n",
    "x = np.arange(0,1000, 1)\n",
    "y = normalpdf(x, u, v)   #需求服從常態  \n",
    "price = 50  #售價  \n",
    "cost = 20   #成本\n",
    "s = 10      #短缺成本\n",
    "vi = 15     #殘值"
   ]
  },
  {
   "cell_type": "code",
   "execution_count": 72,
   "metadata": {},
   "outputs": [],
   "source": [
    "\"\"\"典型報童最佳訂貨量(均勻分布)\"\"\"\n",
    "def uni_class_optorder(a, b):\n",
    "    return ((price + s - cost)*b + (cost - vi)*a)/(price + s - vi)"
   ]
  },
  {
   "cell_type": "code",
   "execution_count": 73,
   "metadata": {},
   "outputs": [],
   "source": [
    "\"\"\"易貨交換最佳訂貨量(均勻分布)\"\"\"\n",
    "def uni_optorder(a, b, Q0, r):\n",
    "    return ((price+s-cost)*b+(cost-vi)*a + Q0*((1-r)*price-vi))/(price+s-vi)"
   ]
  },
  {
   "cell_type": "code",
   "execution_count": 74,
   "metadata": {},
   "outputs": [],
   "source": [
    "\"\"\"易貨交換最佳訂貨量(常態分布)\"\"\"\n",
    "def class_optorder(Q0):\n",
    "    \n",
    "    profitline = [np.sum(np.array([class_profit(Q, d, Q0) for d in x]) * y)for Q in x]\n",
    "    max_value = np.max(profitline)\n",
    "    max_indx = np.argmax(profitline)\n",
    "    \n",
    "    return max_indx, max_value"
   ]
  },
  {
   "cell_type": "code",
   "execution_count": 75,
   "metadata": {},
   "outputs": [],
   "source": [
    "\"\"\"典型報童利潤\"\"\"\n",
    "def class_profit(Q, d, Q0):\n",
    "    \n",
    "    if Q <= d:\n",
    "        return Q*(price - cost)- s*(d - Q) - Q0*price\n",
    "    else:\n",
    "        return d*price + vi*(Q - d) - cost*Q - Q0*price"
   ]
  },
  {
   "cell_type": "code",
   "execution_count": 76,
   "metadata": {},
   "outputs": [],
   "source": [
    "\"\"\"易貨交換最佳訂貨量(常態分布)\"\"\"\n",
    "def optorder(Q0, r):\n",
    "    \n",
    "    profitline = [np.sum(np.array([profit(Q, d, Q0, r) for d in x]) * y)for Q in x]\n",
    "    max_value = np.max(profitline)\n",
    "    max_indx = np.argmax(profitline)\n",
    "    \n",
    "    return max_indx, max_value"
   ]
  },
  {
   "cell_type": "code",
   "execution_count": 77,
   "metadata": {},
   "outputs": [],
   "source": [
    "\"\"\"易貨交換利潤\"\"\"\n",
    "def profit(Q, d, Q0, r):\n",
    "\n",
    "    if Q <= d:\n",
    "        return Q*(price - cost)- s*(d - Q) - Q0*price\n",
    "    \n",
    "    elif Q >= d and Q <= d + Q0:\n",
    "        return d*price - cost*Q + r*price*(Q - d)- price*(Q0 - Q + d)\n",
    "    \n",
    "    else:\n",
    "        return d*price - cost*Q - r*price*Q0 + vi*(Q - Q0 - d)"
   ]
  },
  {
   "cell_type": "code",
   "execution_count": 78,
   "metadata": {},
   "outputs": [],
   "source": [
    "\"\"\"不確定性易貨交換最佳訂貨量(常態分布)\"\"\"\n",
    "def u_optorder(Q0, r, wu, wv):\n",
    "    \n",
    "    wy = normalpdf(x, wu, wv)\n",
    "    profitline = [np.sum(np.array([np.sum(np.array([uncertainbarter_profit(Q, d, Q0, r, w) for d in x]) * y)for w in x])*wy) for Q in x]\n",
    "    max_value = np.max(profitline)\n",
    "    max_indx = np.argmax(profitline)\n",
    "    \n",
    "    return max_indx, max_value\n"
   ]
  },
  {
   "cell_type": "code",
   "execution_count": 79,
   "metadata": {},
   "outputs": [],
   "source": [
    "\"\"\"不確定性易貨交換利潤\"\"\"\n",
    "def uncertainbarter_profit(Q, d, Q0, r, w):\n",
    "\n",
    "    if Q <= d:\n",
    "        return Q*(price - cost)- s*(d - Q) - Q0 * price\n",
    "    \n",
    "    elif Q >= d and Q <= d + w*Q0:\n",
    "        return d*price - cost*Q + r*price*(Q - d)- price*(Q0 - Q + d)\n",
    "    \n",
    "    else:\n",
    "        \n",
    "        if w>=0 and w<1:\n",
    "            return d*price - cost*Q - r*price*w*Q0 + vi*(Q - w*Q0 - d) - (1-w)*price*Q0\n",
    "        else: \n",
    "            return d*price  - cost*Q - r*price*Q0 + vi*(Q - Q0 - d)"
   ]
  },
  {
   "cell_type": "code",
   "execution_count": 80,
   "metadata": {},
   "outputs": [
    {
     "data": {
      "image/png": "[encoded data removed]",
      "text/plain": [
       "<Figure size 432x288 with 1 Axes>"
      ]
     },
     "metadata": {
      "needs_background": "light"
     },
     "output_type": "display_data"
    }
   ],
   "source": [
    "#最佳訂購量\n",
    "def orderplot(labal, x_index, Q0, r):\n",
    "    \"\"\"plot\"\"\"\n",
    "    b_index, b_value = optorder(Q0, r)\n",
    "    cl_index, cl_value = class_optorder(Q0)\n",
    "    \n",
    "    profitline = [np.sum(np.array([profit(Q, d, Q0, r) for d in x]) * y)for Q in x]\n",
    "    class_profitline = [np.sum(np.array([class_profit(Q, d, Q0) for d in x]) * y)for Q in x]\n",
    "    \n",
    "    plt.ylim(-5000, 5000,1000)                                          # 設定y軸繪圖範圍\n",
    "    # 繪圖並設定線條顏色、寬度、圖例\n",
    "    line1, = plt.plot(x_index, profitline, color = 'tab:blue', label = 'barter', alpha=0.75)\n",
    "    show_max1 = '({x},{y})'.format(x=round(b_index, 0), y=round(b_value, 0))\n",
    "    plt.annotate(show_max1, xy=(b_index, b_value),\n",
    "            arrowprops=dict(facecolor='tab:blue',shrink=0.05))\n",
    "    \n",
    "    line2, = plt.plot(x_index, class_profitline, color='black', label = 'classicl', alpha=1)\n",
    "    show_max2 = '({x},{y})'.format(x=round(cl_index, 0), y=round(cl_value, 0))\n",
    "    plt.annotate(show_max2, xy=(cl_index, cl_value),\n",
    "            arrowprops=dict(facecolor='black',shrink=0.05))\n",
    "    \n",
    "    \n",
    "    plt.legend(handles = [line1, line2], loc='upper right')\n",
    "    plt.xlabel(labal)\n",
    "    plt.ylabel('Profit')\n",
    "    plt.show()                           \n",
    "\n",
    "orderplot('Q', x, 50, 0.05)"
   ]
  },
  {
   "cell_type": "code",
   "execution_count": 81,
   "metadata": {},
   "outputs": [],
   "source": [
    "#出圖\n",
    "\n",
    "def plot(labal, x_index, opt_inventory, opt_profit, classical_inventory, classical_profit,scale):\n",
    "    \"\"\"plot\"\"\"\n",
    "    fig, ax1 = plt.subplots()\n",
    "    plt.xlabel(labal)\n",
    "    x_ticks = np.arange(x_index[0],x_index[-1],scale)\n",
    "    plt.xticks(x_ticks)\n",
    "    ax2 = ax1.twinx()\n",
    "    \n",
    "    ax1.set_ylabel('opt order', color='tab:blue')\n",
    "    ax1.plot(x_index, opt_inventory, color='tab:blue', alpha=0.75)\n",
    "    ax1.tick_params(axis='y', labelcolor='tab:blue')\n",
    "    \n",
    "    ax2.set_ylabel('Opt prof', color='black')\n",
    "    ax2.plot(x_index, opt_profit, color='black', alpha=1)\n",
    "    ax2.tick_params(axis='y', labelcolor='black')\n",
    "    \n",
    "    fig.tight_layout()\n",
    "    plt.show()\n",
    "    \n",
    "    # #######################################################\n",
    "    order_increase = [(opt_inventory[i]-classical_inventory[i])*100/classical_inventory[i] for i in range(len(x_index))]\n",
    "    profit_increase = [(opt_profit[i]-classical_profit[i])*100/classical_profit[i] for i in range(len(x_index))]\n",
    "    \n",
    "    fig, ax1 = plt.subplots()\n",
    "    plt.xlabel(labal)\n",
    "    x_ticks = np.arange(x_index[0],x_index[-1],scale)\n",
    "    plt.xticks(x_ticks)\n",
    "    ax2 = ax1.twinx()\n",
    "    \n",
    "    ax1.set_ylabel('order_increase (%)', color='tab:blue')\n",
    "    ax1.plot(x_index, order_increase, color='tab:blue', alpha=0.75)\n",
    "    ax1.tick_params(axis='y', labelcolor='tab:blue')\n",
    "    \n",
    "    ax2.set_ylabel('profit_increase (%)', color='black')\n",
    "    ax2.plot(x_index, profit_increase, color='black', alpha=1)\n",
    "    ax2.tick_params(axis='y', labelcolor='black')\n",
    "    \n",
    "    fig.tight_layout()\n",
    "    plt.show()"
   ]
  },
  {
   "cell_type": "code",
   "execution_count": 41,
   "metadata": {},
   "outputs": [
    {
     "data": {
      "application/vnd.jupyter.widget-view+json": {
       "model_id": "a4e055d2948945b1b3eb2f36e35d0df4",
       "version_major": 2,
       "version_minor": 0
      },
      "text/plain": [
       "interactive(children=(IntSlider(value=10, description='a', max=20), Output()), _dom_classes=('widget-interact'…"
      ]
     },
     "metadata": {},
     "output_type": "display_data"
    },
    {
     "data": {
      "text/plain": [
       "<function __main__.draw(a)>"
      ]
     },
     "execution_count": 41,
     "metadata": {},
     "output_type": "execute_result"
    }
   ],
   "source": [
    "\"\"\"探討隨Q0變化\"\"\"\n",
    "bt = np.arange(80,100,2)\n",
    "def draw(a):\n",
    "    opt_inventory = []\n",
    "    opt_profit = []\n",
    "\n",
    "    classical_inventory = []\n",
    "    classical_profit = []\n",
    "\n",
    "\n",
    "    for Q0 in bt:\n",
    "    \n",
    "        index, value = optorder(Q0+a, r=0.05)\n",
    "        opt_inventory.append(index)\n",
    "        opt_profit.append(value)\n",
    "    \n",
    "        index, value = class_optorder(Q0+a)\n",
    "        classical_inventory.append(index)\n",
    "        classical_profit.append(value)\n",
    "\n",
    "    plot('Q0', bt+a , opt_inventory, opt_profit, classical_inventory, classical_profit,scale = 2)\n",
    "    \n",
    "interact(draw,a=(0,20,1))"
   ]
  },
  {
   "cell_type": "code",
   "execution_count": 31,
   "metadata": {},
   "outputs": [
    {
     "data": {
      "application/vnd.jupyter.widget-view+json": {
       "model_id": "55408d4ea5744d5fa20140f468caafe4",
       "version_major": 2,
       "version_minor": 0
      },
      "text/plain": [
       "interactive(children=(FloatSlider(value=0.05, description='b', max=0.1, step=0.01), Output()), _dom_classes=('…"
      ]
     },
     "metadata": {},
     "output_type": "display_data"
    },
    {
     "data": {
      "text/plain": [
       "<function __main__.draw1(b)>"
      ]
     },
     "execution_count": 31,
     "metadata": {},
     "output_type": "execute_result"
    }
   ],
   "source": [
    "\"\"\"探討隨r變化\"\"\"\n",
    "R = np.arange(0.05,0.16,0.01)\n",
    "def draw1(b):\n",
    "    opt_inventory = []\n",
    "    opt_profit = []\n",
    "    classical_inventory = []\n",
    "    classical_profit = []\n",
    "\n",
    "    for r in R:\n",
    "    \n",
    "        index, value = optorder(Q0=50, r=r+b)\n",
    "        opt_inventory.append(index)\n",
    "        opt_profit.append(value)\n",
    "    \n",
    "        index, value = class_optorder(Q0=50)\n",
    "        classical_inventory.append(index)\n",
    "        classical_profit.append(value)\n",
    " \n",
    "    plot('r', R+b , opt_inventory, opt_profit, classical_inventory, classical_profit,scale = 0.01)\n",
    "interact(draw1,b=(0,0.1,0.01))"
   ]
  },
  {
   "cell_type": "code",
   "execution_count": 82,
   "metadata": {
    "scrolled": true
   },
   "outputs": [
    {
     "data": {
      "image/png": "[encoded data removed]",
      "text/plain": [
       "<Figure size 432x288 with 2 Axes>"
      ]
     },
     "metadata": {
      "needs_background": "light"
     },
     "output_type": "display_data"
    },
    {
     "data": {
      "image/png": "[encoded data removed]",
      "text/plain": [
       "<Figure size 432x288 with 2 Axes>"
      ]
     },
     "metadata": {
      "needs_background": "light"
     },
     "output_type": "display_data"
    }
   ],
   "source": [
    "\"\"\"探討隨d變化\"\"\"\n",
    "V = np.arange(30,65,5)\n",
    "opt_inventory = []\n",
    "opt_profit = []\n",
    "classical_inventory = []\n",
    "classical_profit = []\n",
    "\n",
    "for v in V:\n",
    "    y = normalpdf(x, u=200, v=v)\n",
    "    index, value = optorder(Q0=50, r=0.05)\n",
    "    opt_inventory.append(index)\n",
    "    opt_profit.append(value)\n",
    "    \n",
    "    index, value = class_optorder(Q0=50)\n",
    "    classical_inventory.append(index)\n",
    "    classical_profit.append(value)\n",
    " \n",
    "plot('sigma_x', V , opt_inventory, opt_profit, classical_inventory, classical_profit,scale = 5)"
   ]
  },
  {
   "cell_type": "code",
   "execution_count": null,
   "metadata": {},
   "outputs": [],
   "source": []
  }
 ],
 "metadata": {
  "kernelspec": {
   "display_name": "Python 3",
   "language": "python",
   "name": "python3"
  },
  "language_info": {
   "codemirror_mode": {
    "name": "ipython",
    "version": 3
   },
   "file_extension": ".py",
   "mimetype": "text/x-python",
   "name": "python",
   "nbconvert_exporter": "python",
   "pygments_lexer": "ipython3",
   "version": "3.8.5"
  }
 },
 "nbformat": 4,
 "nbformat_minor": 4
}
